{
 "cells": [
  {
   "cell_type": "markdown",
   "metadata": {},
   "source": [
    "# Projet numérique 2 : Choix du pas de temps\n",
    " "
   ]
  },
  {
   "cell_type": "markdown",
   "metadata": {},
   "source": [
    "## Question 1 : Euler explicite"
   ]
  },
  {
   "cell_type": "code",
   "execution_count": 12,
   "metadata": {},
   "outputs": [],
   "source": [
    "##Schéma Euler ordre 1\n",
    "import matplotlib.pyplot as plt\n",
    "import numpy as np \n",
    "\n",
    "def solve_euler_explicit(f, x0, dt, t_max = 10):\n",
    "    x=[x0]\n",
    "    t=[0]\n",
    "    xj = np.array(x0)\n",
    "    while t[-1]< t_max: # condition de fin\n",
    "        xj= xj + dt*np.array(f(xj))\n",
    "        tj=t[-1]\n",
    "        x.append(xj)\n",
    "        t.append(tj+dt)\n",
    "    return t, x"
   ]
  },
  {
   "cell_type": "markdown",
   "metadata": {},
   "source": [
    "On teste sur le problème de Cauchy :\n",
    "\\begin{align}\n",
    "\\dot{y}+4y=0, x(0)=1\n",
    "\\end{align} dont la solution est : \\begin{align} x \\mapsto e^{-4x} \\end{align}"
   ]
  },
  {
   "cell_type": "code",
   "execution_count": 17,
   "metadata": {},
   "outputs": [],
   "source": [
    "import math\n",
    "\n",
    "def f(x):\n",
    "    return -4*x\n",
    "\n",
    "#Solution théorique\n",
    "def g(x) :\n",
    "    return math.exp (-4*x)"
   ]
  },
  {
   "cell_type": "code",
   "execution_count": 18,
   "metadata": {},
   "outputs": [
    {
     "data": {
      "image/png": "[encoded data removed]",
      "text/plain": [
       "<Figure size 432x288 with 1 Axes>"
      ]
     },
     "metadata": {
      "needs_background": "light"
     },
     "output_type": "display_data"
    }
   ],
   "source": [
    "t, x_exp, = solve_euler_explicit(f,1, 10**-1)\n",
    "x_theo = [g(i) for i in t]\n",
    "plt.plot(t, x_exp, label = \"Courbe théorique\")\n",
    "\n",
    "plt.plot(t, x_theo, label=\"Courbe expériementale\")\n",
    "plt.legend()\n",
    "plt.grid\n",
    "plt.show()\n"
   ]
  },
  {
   "cell_type": "markdown",
   "metadata": {},
   "source": [
    "On observe bien une erreur sur le calcul de la solution par la méthode d'Euleur, qui peut être diminuée, ici en réduisant le pas de temps. Nous allons ici illustrer que la convergence du schéma d'Eulet est bien d'ordre 1, en traçant l'erreur absolue maximale de notre simulation en fonction du pas de temps."
   ]
  },
  {
   "cell_type": "code",
   "execution_count": 20,
   "metadata": {},
   "outputs": [],
   "source": [
    "# définition d'une fonction recherchant le maximum en valeur absolue\n",
    "\n",
    "def max(tab) :\n",
    "    max = abs(tab[0])\n",
    "    for i in range (len(tab)) :\n",
    "        if tab[i]>max :\n",
    "            max = tab[i]\n",
    "    return max\n",
    "\n",
    "res = []\n",
    "for n in range(7) :\n",
    "    deltat = 10**-n\n",
    "    temps, resexp = solve_euler_explicit(f,1, deltat)\n",
    "    restheo = [g(i) for i in temps]\n",
    "    erreur = np.array(restheo)-np.array(resexp)\n",
    "    res.append(max(erreur))"
   ]
  },
  {
   "cell_type": "code",
   "execution_count": 22,
   "metadata": {},
   "outputs": [
    {
     "data": {
      "image/png": "[encoded data removed]",
      "text/plain": [
       "<Figure size 432x288 with 1 Axes>"
      ]
     },
     "metadata": {
      "needs_background": "light"
     },
     "output_type": "display_data"
    }
   ],
   "source": [
    "a_tracer = [res[i]/10**-i for i in range(7)]\n",
    "plt.plot([0, 1, 2, 3, 4, 5, 6], a_tracer)\n",
    "plt.show()"
   ]
  },
  {
   "cell_type": "markdown",
   "metadata": {},
   "source": [
    "Pour obtenir une erreur moindre, on peut aussi favoriser une méthode d'ordre 2, c'est ce que l'on va faire avec la méthode de Heun.\n"
   ]
  },
  {
   "cell_type": "markdown",
   "metadata": {},
   "source": [
    "## Question 2 : Méthode de Heun"
   ]
  },
  {
   "cell_type": "code",
   "execution_count": 15,
   "metadata": {},
   "outputs": [],
   "source": [
    "def solve_heun(f,x0,dt, t_max):\n",
    "    x=np.array(x0)\n",
    "    t=np.array(0)\n",
    "    while t[-1] < t_max:\n",
    "        xj=x[-1]\n",
    "        tj=t[-1]\n",
    "        x_approx=xj+np.array(f(xj))*dt\n",
    "        x.append(xj+(dt/2)*(f(xj)+x_approx))\n",
    "        t.append(tj+dt)\n",
    "    return t,x"
   ]
  },
  {
   "cell_type": "code",
   "execution_count": null,
   "metadata": {},
   "outputs": [],
   "source": [
    "les_t, les_x=solve_euler_explicit(f,1, 10**-1)\n",
    "plt.plot(les_t, les_x)\n",
    "plt.grid\n",
    "plt.show()"
   ]
  },
  {
   "cell_type": "markdown",
   "metadata": {},
   "source": [
    "## Question 3 : démonstration du résultat demandé"
   ]
  },
  {
   "cell_type": "markdown",
   "metadata": {},
   "source": [
    "On va démontrer le résultat suivant quand f est de classe 1 :\n",
    "\\begin{align}\n",
    "\\left\\| e^{j+1} \\right\\| =\\Delta t_{j}  \\frac{\\left\\|f(t_{j+1},\\ x^{j+1})-f(t_{j}, \\ x^{j})\\right\\|}{2} + O(\\Delta t_{j}^{3})\n",
    "\\end{align}"
   ]
  },
  {
   "cell_type": "markdown",
   "metadata": {},
   "source": [
    "\n",
    "On va utiliser la définition d'erreur locale, qui nous donne \n",
    "\\begin{align}\n",
    "\\dot{x} &=& f(x, t) \\\\ \n",
    "x(t_{j}) &=& x^{j}\n",
    "\\end{align}\n",
    "\n",
    "Ce qui une fois intégré donne : \n",
    "\\begin{align}\n",
    "\\int_{t_j}^{t_{j+1}} f(s,x(s)) ds = x(t_{j+1}) - x(t_{j})\n",
    "\\end{align}\n",
    "\n",
    "Puisque f est une fois continûment différentiable, x l'est deux fois, avec une formule de Taylor, on obtient donc : \n",
    "\\begin{align} x(t_{j+1}) = x(t_{j}+\\Delta t_{j}) =x(t_{j}) + \\dot{x}(t_{j})\\Delta t_{j} +\\frac{\\ddot{x}(t_{j})}{2}\\Delta t_{j}^{2}+O(\\Delta t_{j}^{3})\\end{align}\n",
    "\n",
    "Or, \\begin{align} x(t_{j}) + \\dot{x}(t_{j})\\Delta t_{j} = x(t_{j})+ f(t_{j}, x^{j})\\Delta t_{j} =x^{j+1}\\end{align}\n",
    "\n",
    "Ce qui permet d'obtenir \n",
    "\\begin{align}  \n",
    "e^{j+1} =  x^{j} + \\int_{t_j}^{t^{j+1}} f(s,x(s)) ds  - x^{j+1} = \\frac{\\ddot{x}(t_{j})}{2} \\Delta t_{j}^{2}+O(\\Delta t_{j}^{3}) \n",
    "\\end{align}\n",
    "\n",
    "En développant lorque le pas de temps tend vers 0, il vient d'autre part :\n",
    "\n",
    "\n",
    "\\begin{align}\n",
    "f(t_{j+1},  x^{j+1}) = f(t_{j} + \\Delta t_{j},  x^{j} + \\Delta t_{j}f(t_{j},x^{j})) = f(t_{j}, x^{j}) + f'(t_{j})\\Delta t_{j} + O(\\Delta t_{j}^{2})\n",
    "\\end{align}\n",
    "Et puisque \n",
    "\\begin{align}\n",
    "f'(t_{j}) = \\ddot{x}(t_{j})\n",
    "\\end{align}\n",
    "\n",
    "Ce qui finalement donne :\n",
    "\\begin{align}\n",
    " e^{j+1}  =\\Delta t_{j}  \\frac{f(t_{j+1},\\ x^{j+1})-f(t_{j}, \\ x^{j})}{2} + O(\\Delta t_{j}^{3})\n",
    "\\end{align}\n",
    "\n",
    "En calculant la norme de l'erreur au carré et en effectuant un développement limité, on montre que l'on peut aussi écrire :\n",
    "\\begin{align}\n",
    "\\left\\| e^{j+1} \\right\\| =\\Delta t_{j}  \\frac{\\left\\|f(t_{j+1},\\ x^{j+1})-f(t_{j}, \\ x^{j})\\right\\|}{2} + O(\\Delta t_{j}^{3})\n",
    "\\end{align}\n"
   ]
  },
  {
   "cell_type": "markdown",
   "metadata": {},
   "source": [
    "## Question 4 : Pas de temps optimal "
   ]
  },
  {
   "cell_type": "markdown",
   "metadata": {},
   "source": [
    "Question 5: Fonctionnement solveur"
   ]
  },
  {
   "cell_type": "code",
   "execution_count": null,
   "metadata": {},
   "outputs": [],
   "source": [
    "from mpl_toolkits.mplot3d import Axes3D\n",
    "from numpy import *\n",
    "from scipy.integrate import solve_ivp\n",
    "import matplotlib; \n",
    "from matplotlib.pyplot import *\n",
    "import seaborn as sns\n",
    "sns.set()\n",
    "%matplotlib notebook"
   ]
  },
  {
   "cell_type": "markdown",
   "metadata": {},
   "source": [
    "## Euler explicite à pas variable\n"
   ]
  },
  {
   "cell_type": "raw",
   "metadata": {},
   "source": [
    "La fonction suivante code un schéma d'Euler explicite à pas variable : l'erreur commise est estimée à chaque itération et le pas de temps adapté de façon à garder cette erreur en dessous d'un seuil. Le pas reste compris entre dtmin et dtmax fixés par l'utilisateur et sort la solution échantillonnée à dtmax. Vous devrez comprendre le fonctionnement de cette méthode et l'illustrer dans votre projet numérique."
   ]
  },
  {
   "cell_type": "code",
   "execution_count": null,
   "metadata": {},
   "outputs": [],
   "source": [
    "def solve_ivp_euler_explicit_variable_step(f, t0, x0, t_f, dtmin = 1e-16, dtmax = 0.01, atol = 1e-6):\n",
    "    dt = dtmax/10; # initial integration step\n",
    "    ts, xs = [t0], [x0]  # storage variables\n",
    "    t = t0\n",
    "    ti = 0  # internal time keeping track of time since latest storage point : must remain below dtmax\n",
    "    x = x0\n",
    "    while ts[-1] < t_f:\n",
    "        while ti < dtmax:\n",
    "            t_next, ti_next, x_next = t + dt, ti + dt, x + dt * f(x)\n",
    "            x_back = x_next - dt * f(x_next)\n",
    "            ratio_abs_error = atol / (linalg.norm(x_back-x)/2)\n",
    "            dt = 0.9 * dt * sqrt(ratio_abs_error)\n",
    "            if dt < dtmin:\n",
    "                raise ValueError(\"Time step below minimum\")\n",
    "            elif dt > dtmax/2:\n",
    "                dt = dtmax/2\n",
    "            t, ti, x = t_next, ti_next, x_next\n",
    "        dt2DT = dtmax - ti # time left to dtmax\n",
    "        t_next, ti_next, x_next = t + dt2DT, 0, x + dt2DT * f(x)\n",
    "        ts = vstack([ts,t_next])\n",
    "        xs = vstack([xs,x_next])\n",
    "        t, ti, x = t_next, ti_next, x_next\n",
    "    return (ts, xs.T)"
   ]
  },
  {
   "cell_type": "markdown",
   "metadata": {},
   "source": [
    "Par exemple, sur un oscillateur, le pas de temps \"interne\" s'adapte automatiquement à la pulsation $\\omega$. Notons que la solution en sortie est toujours échantillonnées à dtmax, donc il faut diminuer ce paramètre si l'on veut plus de précision de visualisation."
   ]
  },
  {
   "cell_type": "code",
   "execution_count": null,
   "metadata": {},
   "outputs": [],
   "source": [
    "# Oscillateur \n",
    "\n",
    "omega = 1\n",
    "\n",
    "def f(xy):\n",
    "    x, y = xy\n",
    "    return array([y, -omega*x])\n",
    "\n",
    "t0, tf, x0 = 0.0, 30.0, array([-1.0, 0.0])\n",
    "\n",
    "t, x = solve_ivp_euler_explicit_variable_step(f, t0, x0, tf)\n",
    "\n",
    "figure()\n",
    "plot(t, x[0])\n",
    "plot(t, x[1])\n",
    "grid(True)\n",
    "\n",
    "figure()\n",
    "plot(x[0],x[1])"
   ]
  },
  {
   "cell_type": "markdown",
   "metadata": {},
   "source": [
    "On constate cependant que les solutions ne suivent pas une ellipse parfaite car l'énergie n'est pas conservée par l'algorithme. Pour ce type de système conservatif, il faudrait en fait un schéma symplectique. Voir plus bas."
   ]
  },
  {
   "cell_type": "markdown",
   "metadata": {},
   "source": [
    "## Système raide\n"
   ]
  },
  {
   "cell_type": "markdown",
   "metadata": {},
   "source": [
    "Les systèmes raides désignent des systèmes comprenant des dynamiques aux constantes de temps très différentes. Dans ce cas, le pas nécessaire pour simuler avec précision les dynamiques très rapides est si petit, qu'il est alors impossible de simuler assez longtemps pour observer les parties lentes. La particularité de ces systèmes est que cette décroissance du pas apparaît alors que la solution est parfaitement régulière, et non pas proche de singularités.\n",
    "\n",
    "La coexistence de dynamiques très lentes à très rapides apparaît typiqument en cinétique chimique, par exemple la réaction de Robertson : \\begin{align} A & \\stackrel{0.04}{\\longrightarrow} B \\quad \\text{(lente)} \\ B + B & \\stackrel{3 \\times 10^7}{\\longrightarrow} B + C \\quad \\text{(très rapide)} \\ B + C & \\stackrel{10^4}{\\longrightarrow} A + C \\quad \\text{(rapide)} \\end{align} modélisée par \\begin{align} \\dot{x}_a &= -0.04 x_b + 10^4 x_bx_c \\ \\dot{x}_b &= 0.04 x_a - 10^4 x_bx_c - 3\\times 10^7 x_b^2\\ \\dot{x}_c &= 3\\times 10^7 x_b^2 \\end{align}\n",
    "\n",
    "Lorsqu'on applique le schéma d'Euler explicite à pas variable, le compromis précision/pas de temps devient impossible."
   ]
  },
  {
   "cell_type": "code",
   "execution_count": null,
   "metadata": {},
   "outputs": [],
   "source": [
    "def f(xabc):\n",
    "    xa, xb, xc = xabc\n",
    "    return array([-0.04 * xb + 1e4 * xb * xc, 0.04 * xa - 1e4 * xb * xc - 3e7 * xb**2,  3e7 * xb**2])\n",
    "\n",
    "t0, tf, x0 = 0.0, 5.0, array([1.0, 0.0, 0.0])\n",
    "\n",
    "t, x = solve_ivp_euler_explicit_variable_step(f, t0, x0, tf, dtmin = 1e-20, atol = 1)\n",
    "\n",
    "figure()\n",
    "plot(t, x[0])\n",
    "plot(t, x[1])\n",
    "plot(t, x[2])\n",
    "grid(True)"
   ]
  },
  {
   "cell_type": "markdown",
   "metadata": {},
   "source": [
    "## Système hamiltonien : exemple d'un problème à deux corps "
   ]
  },
  {
   "cell_type": "markdown",
   "metadata": {},
   "source": [
    "Voir exercice \"Euler Symplectique\""
   ]
  },
  {
   "cell_type": "code",
   "execution_count": null,
   "metadata": {},
   "outputs": [],
   "source": [
    "e = 0.01\n",
    "q0 = array([1-e,0.0])\n",
    "p0 = array([0.0,sqrt((1+e)/(1-e))])\n",
    "t0, tf, dt = 0.0 , 50.0, 0.01"
   ]
  },
  {
   "cell_type": "code",
   "execution_count": null,
   "metadata": {},
   "outputs": [],
   "source": [
    "def solve_ivp_euler_symplectic(fp, fq, t0, q0, p0, dt, tf):\n",
    "    ts, qs, ps = [t0], [q0], [p0]\n",
    "    while ts[-1] < tf:\n",
    "        t, q, p = ts[-1], qs[-1], ps[-1]\n",
    "        t_next, q_next = t + dt, q + dt*fq(p)\n",
    "        p_next = p + dt*fp(q_next)\n",
    "        ts = vstack([ts,t_next])\n",
    "        qs = vstack([qs,q_next])\n",
    "        ps = vstack([ps,p_next])\n",
    "    return (ts, qs.T, ps.T)"
   ]
  },
  {
   "cell_type": "code",
   "execution_count": null,
   "metadata": {},
   "outputs": [],
   "source": [
    "def fq(p):\n",
    "    return p\n",
    "\n",
    "def fp(q):\n",
    "    q1, q2 = q\n",
    "    return array([-q1/power(q1**2+q2**2,3/2),-q2/power(q1**2+q2**2,3/2)])\n",
    "\n",
    "def fun(qp):\n",
    "    q1, q2, p1, p2 = qp\n",
    "    return concatenate([fq([p1,p2]),fp([q1,q2])])"
   ]
  },
  {
   "cell_type": "code",
   "execution_count": null,
   "metadata": {},
   "outputs": [],
   "source": [
    "t, q, p = solve_ivp_euler_symplectic(fp, fq, t0, q0, p0, dt, tf)\n",
    "\n",
    "t, qp = solve_ivp_euler_explicit_variable_step(fun, t0, concatenate([q0,p0]), tf)\n",
    "\n",
    "figure()\n",
    "plot(q[0], q[1])\n",
    "plot([0.0],[0.0],'.')\n",
    "grid(True)\n",
    "title('Euler symplectique')\n",
    "\n",
    "figure()\n",
    "plot(qp[0],qp[1])\n",
    "plot([0.0],[0.0],'.')\n",
    "grid(True)\n",
    "title('Euler explicite pas variable')"
   ]
  }
 ],
 "metadata": {
  "kernelspec": {
   "display_name": "Python 3",
   "language": "python",
   "name": "python3"
  },
  "language_info": {
   "codemirror_mode": {
    "name": "ipython",
    "version": 3
   },
   "file_extension": ".py",
   "mimetype": "text/x-python",
   "name": "python",
   "nbconvert_exporter": "python",
   "pygments_lexer": "ipython3",
   "version": "3.7.4"
  }
 },
 "nbformat": 4,
 "nbformat_minor": 2
}
